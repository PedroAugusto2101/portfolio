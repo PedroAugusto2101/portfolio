{
 "cells": [
  {
   "cell_type": "markdown",
   "metadata": {},
   "source": [
    "#### **Developer**: Pedro Augusto Andrade Silva\n",
    "#### **Objectives**: Outlook automation of e-mail sending with different attachments and recipient list, considering the business days and with a customizable e-mail body."
   ]
  },
  {
   "cell_type": "markdown",
   "metadata": {},
   "source": [
    "## 1) Libraries used"
   ]
  },
  {
   "cell_type": "code",
   "execution_count": 17,
   "metadata": {},
   "outputs": [],
   "source": [
    "import calendar\n",
    "import locale\n",
    "import time\n",
    "from datetime import datetime, timedelta, date\n",
    "import win32com.client as win32\n",
    "import pandas as pd\n",
    "import holidays"
   ]
  },
  {
   "cell_type": "markdown",
   "metadata": {},
   "source": [
    "## 2) Initial settings"
   ]
  },
  {
   "cell_type": "code",
   "execution_count": 18,
   "metadata": {},
   "outputs": [],
   "source": [
    "locale.setlocale(locale.LC_ALL, \"pt_BR.utf8\")\n",
    "current_month_name = calendar.month_name[datetime.today().month].title()\n",
    "\n",
    "\n",
    "br_holidays = holidays.Brazil(years = datetime.today().year)\n",
    "holidays = [date for date, _ in sorted(br_holidays.items())]\n",
    "\n",
    "file_name = [\n",
    "    'attachment1',\n",
    "    'attachment2',\n",
    "    'attachment3',\n",
    "]\n",
    "\n",
    "attachments = [\n",
    "    r\"C:\\Users\\pedro\\OneDrive\\Área de Trabalho\\Pedro\\Projetos\\automacoes\\outlook\\attachment1.xlsx\",\n",
    "    r\"C:\\Users\\pedro\\OneDrive\\Área de Trabalho\\Pedro\\Projetos\\automacoes\\outlook\\attachment2.xlsx\",\n",
    "    r\"C:\\Users\\pedro\\OneDrive\\Área de Trabalho\\Pedro\\Projetos\\automacoes\\outlook\\attachment3.xlsx\",\n",
    "]\n"
   ]
  },
  {
   "cell_type": "markdown",
   "metadata": {},
   "source": [
    "## 3) Functions"
   ]
  },
  {
   "cell_type": "code",
   "execution_count": 19,
   "metadata": {},
   "outputs": [],
   "source": [
    "def calculate_delivery_deadline(current_date, holidays):\n",
    "    working_days = 0\n",
    "    while working_days < 2:\n",
    "        delivery_date = current_date + timedelta(days=1)\n",
    "        if delivery_date.weekday() < 5 and delivery_date not in holidays:\n",
    "            working_days += 1\n",
    "        current_date = delivery_date\n",
    "    return delivery_date\n",
    "\n",
    "def success_message(file_name):\n",
    "    time.sleep(1)\n",
    "    print(f\"The file \\\"{file_name}\\\" has been successfully sent!\")\n",
    "\n",
    "current_date = datetime.now().date()\n",
    "delivery_date = calculate_delivery_deadline(current_date, holidays)\n",
    "delivery_date_formated = delivery_date.strftime(\"%d-%m\")"
   ]
  },
  {
   "cell_type": "markdown",
   "metadata": {},
   "source": [
    "## 4) Execution"
   ]
  },
  {
   "cell_type": "code",
   "execution_count": 20,
   "metadata": {},
   "outputs": [
    {
     "name": "stdout",
     "output_type": "stream",
     "text": [
      "The file \"attachment1\" has been successfully sent!\n",
      "The file \"attachment2\" has been successfully sent!\n",
      "The file \"attachment3\" has been successfully sent!\n"
     ]
    }
   ],
   "source": [
    "outlook = win32.Dispatch('outlook.application')\n",
    "\n",
    "with open(\"email_body.txt\", \"r\", encoding=\"utf-8\") as txt_file:\n",
    "    personalized_text = txt_file.read()\n",
    "\n",
    "for i in range(3):\n",
    "    df_emails_to = pd.read_excel(r\"C:\\Users\\pedro\\OneDrive\\Área de Trabalho\\Pedro\\Projetos\\automacoes\\outlook\\recipients.xlsx\", sheet_name=0, header=0)\n",
    "    df_emails_cc = pd.read_excel(r\"C:\\Users\\pedro\\OneDrive\\Área de Trabalho\\Pedro\\Projetos\\automacoes\\outlook\\recipients.xlsx\", sheet_name=1, header=0)\n",
    "    df_emails_bcc = pd.read_excel(r\"C:\\Users\\pedro\\OneDrive\\Área de Trabalho\\Pedro\\Projetos\\automacoes\\outlook\\recipients.xlsx\", sheet_name=2, header=0)\n",
    "    recipient_to = list(df_emails_to[f\"Grupo {i+1}\"])\n",
    "    recipient_cc = list(df_emails_cc[f\"Grupo {i+1}\"])\n",
    "    recipien_bcc = list(df_emails_bcc[f\"Grupo {i+1}\"])\n",
    "\n",
    "    email = outlook.CreateItem(0)\n",
    "    email.To = ';'.join(recipient_to)\n",
    "    email.CC = ';'.join(recipient_cc)\n",
    "    email.BCC = ';'.join(recipien_bcc)\n",
    "    email.Subject = f\"E-mails sending - {current_month_name}/23\"\n",
    "    email.Body = f\"\"\"Dear,\n",
    "\n",
    "Please send us the document within a period of up to 2 business days, that is, by the day {delivery_date_formated}.\n",
    "\n",
    "{personalized_text}\"\"\"\n",
    "\n",
    "    email.Attachments.Add(attachments[i])\n",
    "    email.Send()\n",
    "    \n",
    "    success_message(file_name[i])"
   ]
  }
 ],
 "metadata": {
  "kernelspec": {
   "display_name": "Python 3 (ipykernel)",
   "language": "python",
   "name": "python3"
  },
  "language_info": {
   "codemirror_mode": {
    "name": "ipython",
    "version": 3
   },
   "file_extension": ".py",
   "mimetype": "text/x-python",
   "name": "python",
   "nbconvert_exporter": "python",
   "pygments_lexer": "ipython3",
   "version": "3.11.3"
  }
 },
 "nbformat": 4,
 "nbformat_minor": 2
}
